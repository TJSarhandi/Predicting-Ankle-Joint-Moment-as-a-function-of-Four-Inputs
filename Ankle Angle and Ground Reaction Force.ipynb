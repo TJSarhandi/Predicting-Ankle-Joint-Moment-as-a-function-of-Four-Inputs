{
 "cells": [
  {
   "cell_type": "code",
   "execution_count": 23,
   "id": "3ffd3f38",
   "metadata": {},
   "outputs": [],
   "source": [
    "from scipy.io import loadmat\n",
    "import pandas as pd\n",
    "import matplotlib.pyplot as plt\n",
    "import seaborn as sns\n",
    "from sklearn.preprocessing import StandardScaler"
   ]
  },
  {
   "cell_type": "code",
   "execution_count": 24,
   "id": "1e60b0d4",
   "metadata": {},
   "outputs": [],
   "source": [
    "data_path = './Data_Ankle.mat'\n",
    "data_mat = loadmat(data_path)"
   ]
  },
  {
   "cell_type": "code",
   "execution_count": 25,
   "id": "7f07b369",
   "metadata": {},
   "outputs": [
    {
     "data": {
      "text/plain": [
       "(48000, 6)"
      ]
     },
     "execution_count": 25,
     "metadata": {},
     "output_type": "execute_result"
    }
   ],
   "source": [
    "data_matrix = data_mat['ankle_data']\n",
    "data_matrix.shape"
   ]
  },
  {
   "cell_type": "code",
   "execution_count": 26,
   "id": "36467d53",
   "metadata": {},
   "outputs": [
    {
     "data": {
      "text/plain": [
       "(   Time  Vertical Ground_Reaction_Force  Hip_Angle  Knee_Angle  Ankle_Angle  \\\n",
       " 0  0.00                       10.748116   0.292974    0.825063    -1.492588   \n",
       " 1  0.01                        8.231421   0.293179    0.822469    -1.493192   \n",
       " 2  0.02                        6.204634   0.294008    0.810997    -1.495867   \n",
       " 3  0.03                        5.083716   0.295568    0.785731    -1.501793   \n",
       " 4  0.04                        4.816681   0.297472    0.745707    -1.511208   \n",
       " \n",
       "    Ankle_Moment  \n",
       " 0     -1.926491  \n",
       " 1     -1.984065  \n",
       " 2     -1.921029  \n",
       " 3     -1.727272  \n",
       " 4     -1.440258  ,\n",
       " Time                              0\n",
       " Vertical Ground_Reaction_Force    0\n",
       " Hip_Angle                         0\n",
       " Knee_Angle                        0\n",
       " Ankle_Angle                       0\n",
       " Ankle_Moment                      0\n",
       " dtype: int64)"
      ]
     },
     "execution_count": 26,
     "metadata": {},
     "output_type": "execute_result"
    }
   ],
   "source": [
    "columns = ['Time', 'Vertical Ground_Reaction_Force', 'Hip_Angle', 'Knee_Angle', 'Ankle_Angle', 'Ankle_Moment']\n",
    "data_df = pd.DataFrame(data_matrix, columns=columns)\n",
    "missing_values = data_df.isnull().sum()\n",
    "data_df.head(), missing_values"
   ]
  },
  {
   "cell_type": "code",
   "execution_count": 27,
   "id": "71416a36",
   "metadata": {},
   "outputs": [],
   "source": [
    "data_to_scale = data_df.drop(columns=['Time'])"
   ]
  },
  {
   "cell_type": "code",
   "execution_count": 28,
   "id": "cba744bc",
   "metadata": {},
   "outputs": [],
   "source": [
    "scaler = StandardScaler()\n",
    "scaled_data = scaler.fit_transform(data_to_scale)"
   ]
  },
  {
   "cell_type": "code",
   "execution_count": 29,
   "id": "c57d3867",
   "metadata": {},
   "outputs": [],
   "source": [
    "scaled_df = pd.DataFrame(scaled_data, columns=columns[1:])\n",
    "scaled_df['Time'] = data_df['Time']"
   ]
  },
  {
   "cell_type": "code",
   "execution_count": 30,
   "id": "ede99657",
   "metadata": {},
   "outputs": [],
   "source": [
    "train_size = int(0.8 * len(scaled_df))\n",
    "train_data = scaled_df[:train_size]\n",
    "test_data = scaled_df[train_size:]"
   ]
  },
  {
   "cell_type": "code",
   "execution_count": 31,
   "id": "8e1bcb94",
   "metadata": {},
   "outputs": [
    {
     "data": {
      "text/html": [
       "<div>\n",
       "<style scoped>\n",
       "    .dataframe tbody tr th:only-of-type {\n",
       "        vertical-align: middle;\n",
       "    }\n",
       "\n",
       "    .dataframe tbody tr th {\n",
       "        vertical-align: top;\n",
       "    }\n",
       "\n",
       "    .dataframe thead th {\n",
       "        text-align: right;\n",
       "    }\n",
       "</style>\n",
       "<table border=\"1\" class=\"dataframe\">\n",
       "  <thead>\n",
       "    <tr style=\"text-align: right;\">\n",
       "      <th></th>\n",
       "      <th>Vertical Ground_Reaction_Force</th>\n",
       "      <th>Hip_Angle</th>\n",
       "      <th>Knee_Angle</th>\n",
       "      <th>Ankle_Angle</th>\n",
       "      <th>Ankle_Moment</th>\n",
       "      <th>Time</th>\n",
       "    </tr>\n",
       "  </thead>\n",
       "  <tbody>\n",
       "    <tr>\n",
       "      <th>0</th>\n",
       "      <td>1.164420</td>\n",
       "      <td>1.165376</td>\n",
       "      <td>1.118800</td>\n",
       "      <td>0.427622</td>\n",
       "      <td>-0.904122</td>\n",
       "      <td>0.00</td>\n",
       "    </tr>\n",
       "    <tr>\n",
       "      <th>1</th>\n",
       "      <td>1.156401</td>\n",
       "      <td>1.166540</td>\n",
       "      <td>1.110820</td>\n",
       "      <td>0.423625</td>\n",
       "      <td>-0.905688</td>\n",
       "      <td>0.01</td>\n",
       "    </tr>\n",
       "    <tr>\n",
       "      <th>2</th>\n",
       "      <td>1.149944</td>\n",
       "      <td>1.171241</td>\n",
       "      <td>1.075539</td>\n",
       "      <td>0.405926</td>\n",
       "      <td>-0.903974</td>\n",
       "      <td>0.02</td>\n",
       "    </tr>\n",
       "    <tr>\n",
       "      <th>3</th>\n",
       "      <td>1.146372</td>\n",
       "      <td>1.180092</td>\n",
       "      <td>0.997836</td>\n",
       "      <td>0.366702</td>\n",
       "      <td>-0.898705</td>\n",
       "      <td>0.03</td>\n",
       "    </tr>\n",
       "    <tr>\n",
       "      <th>4</th>\n",
       "      <td>1.145522</td>\n",
       "      <td>1.190897</td>\n",
       "      <td>0.874748</td>\n",
       "      <td>0.304399</td>\n",
       "      <td>-0.890899</td>\n",
       "      <td>0.04</td>\n",
       "    </tr>\n",
       "    <tr>\n",
       "      <th>...</th>\n",
       "      <td>...</td>\n",
       "      <td>...</td>\n",
       "      <td>...</td>\n",
       "      <td>...</td>\n",
       "      <td>...</td>\n",
       "      <td>...</td>\n",
       "    </tr>\n",
       "    <tr>\n",
       "      <th>38395</th>\n",
       "      <td>0.745858</td>\n",
       "      <td>-1.235113</td>\n",
       "      <td>0.651326</td>\n",
       "      <td>0.736567</td>\n",
       "      <td>-0.351978</td>\n",
       "      <td>383.95</td>\n",
       "    </tr>\n",
       "    <tr>\n",
       "      <th>38396</th>\n",
       "      <td>0.895353</td>\n",
       "      <td>-1.105113</td>\n",
       "      <td>0.839931</td>\n",
       "      <td>1.080455</td>\n",
       "      <td>-0.569171</td>\n",
       "      <td>383.96</td>\n",
       "    </tr>\n",
       "    <tr>\n",
       "      <th>38397</th>\n",
       "      <td>1.008179</td>\n",
       "      <td>-0.957517</td>\n",
       "      <td>1.032696</td>\n",
       "      <td>1.384518</td>\n",
       "      <td>-0.730013</td>\n",
       "      <td>383.97</td>\n",
       "    </tr>\n",
       "    <tr>\n",
       "      <th>38398</th>\n",
       "      <td>1.087433</td>\n",
       "      <td>-0.796470</td>\n",
       "      <td>1.223985</td>\n",
       "      <td>1.627290</td>\n",
       "      <td>-0.837842</td>\n",
       "      <td>383.98</td>\n",
       "    </tr>\n",
       "    <tr>\n",
       "      <th>38399</th>\n",
       "      <td>1.138454</td>\n",
       "      <td>-0.627130</td>\n",
       "      <td>1.407444</td>\n",
       "      <td>1.793444</td>\n",
       "      <td>-0.900042</td>\n",
       "      <td>383.99</td>\n",
       "    </tr>\n",
       "  </tbody>\n",
       "</table>\n",
       "<p>38400 rows × 6 columns</p>\n",
       "</div>"
      ],
      "text/plain": [
       "       Vertical Ground_Reaction_Force  Hip_Angle  Knee_Angle  Ankle_Angle  \\\n",
       "0                            1.164420   1.165376    1.118800     0.427622   \n",
       "1                            1.156401   1.166540    1.110820     0.423625   \n",
       "2                            1.149944   1.171241    1.075539     0.405926   \n",
       "3                            1.146372   1.180092    0.997836     0.366702   \n",
       "4                            1.145522   1.190897    0.874748     0.304399   \n",
       "...                               ...        ...         ...          ...   \n",
       "38395                        0.745858  -1.235113    0.651326     0.736567   \n",
       "38396                        0.895353  -1.105113    0.839931     1.080455   \n",
       "38397                        1.008179  -0.957517    1.032696     1.384518   \n",
       "38398                        1.087433  -0.796470    1.223985     1.627290   \n",
       "38399                        1.138454  -0.627130    1.407444     1.793444   \n",
       "\n",
       "       Ankle_Moment    Time  \n",
       "0         -0.904122    0.00  \n",
       "1         -0.905688    0.01  \n",
       "2         -0.903974    0.02  \n",
       "3         -0.898705    0.03  \n",
       "4         -0.890899    0.04  \n",
       "...             ...     ...  \n",
       "38395     -0.351978  383.95  \n",
       "38396     -0.569171  383.96  \n",
       "38397     -0.730013  383.97  \n",
       "38398     -0.837842  383.98  \n",
       "38399     -0.900042  383.99  \n",
       "\n",
       "[38400 rows x 6 columns]"
      ]
     },
     "execution_count": 31,
     "metadata": {},
     "output_type": "execute_result"
    }
   ],
   "source": [
    "train_data"
   ]
  },
  {
   "cell_type": "code",
   "execution_count": 32,
   "id": "986d9ea2",
   "metadata": {},
   "outputs": [],
   "source": [
    "X_train_1 = train_data[['Ankle_Angle', 'Vertical Ground_Reaction_Force']].values\n",
    "y_train_1 = train_data['Ankle_Moment'].values\n",
    "\n",
    "X_test_1 = test_data[['Ankle_Angle', 'Vertical Ground_Reaction_Force']].values\n",
    "y_test_1 = test_data['Ankle_Moment'].values"
   ]
  },
  {
   "cell_type": "code",
   "execution_count": 33,
   "id": "ff110de0",
   "metadata": {},
   "outputs": [
    {
     "data": {
      "text/plain": [
       "((38400, 2, 1), (9600, 2, 1), (38400,), (9600,))"
      ]
     },
     "execution_count": 33,
     "metadata": {},
     "output_type": "execute_result"
    }
   ],
   "source": [
    "X_train_1_cnn = X_train_1.reshape(X_train_1.shape[0], X_train_1.shape[1], 1)\n",
    "X_test_1_cnn = X_test_1.reshape(X_test_1.shape[0], X_test_1.shape[1], 1)\n",
    "\n",
    "X_train_1_cnn.shape, X_test_1_cnn.shape, y_train_1.shape, y_test_1.shape"
   ]
  },
  {
   "cell_type": "code",
   "execution_count": 34,
   "id": "9cf367e0",
   "metadata": {},
   "outputs": [],
   "source": [
    "from tensorflow import keras\n",
    "from keras.models import Sequential\n",
    "from keras.layers import Dense, Conv1D, Flatten\n",
    "model = Sequential()\n",
    "model.add(Conv1D(16, kernel_size=(1,), activation=\"relu\", input_shape=(2,1)))\n",
    "#model.add(Conv2D(32, kernel_size=(2,), activation=\"relu\"))\n",
    "model.add(Flatten())\n",
    "model.compile(loss=\"mse\", optimizer=\"adam\")\n",
    "model.add(Dense(32, activation=\"relu\"))\n",
    "model.add(Dense(1, activation=\"linear\"))"
   ]
  },
  {
   "cell_type": "code",
   "execution_count": 20,
   "id": "09bfd3e0",
   "metadata": {},
   "outputs": [
    {
     "name": "stdout",
     "output_type": "stream",
     "text": [
      "Epoch 1/50\n",
      "2560/2560 [==============================] - 293s 115ms/step - loss: 0.0770 - val_loss: 0.0762\n",
      "Epoch 2/50\n",
      "2560/2560 [==============================] - 291s 114ms/step - loss: 0.0771 - val_loss: 0.0738\n",
      "Epoch 3/50\n",
      "2560/2560 [==============================] - 293s 114ms/step - loss: 0.0769 - val_loss: 0.0766\n",
      "Epoch 4/50\n",
      "2560/2560 [==============================] - 302s 118ms/step - loss: 0.0772 - val_loss: 0.0783\n",
      "Epoch 5/50\n",
      "2560/2560 [==============================] - 301s 118ms/step - loss: 0.0772 - val_loss: 0.0770\n",
      "Epoch 6/50\n",
      "2560/2560 [==============================] - 310s 121ms/step - loss: 0.0770 - val_loss: 0.0786\n",
      "Epoch 7/50\n",
      "2560/2560 [==============================] - 300s 117ms/step - loss: 0.0767 - val_loss: 0.0859\n",
      "Epoch 8/50\n",
      "2560/2560 [==============================] - 298s 116ms/step - loss: 0.0771 - val_loss: 0.0764\n",
      "Epoch 9/50\n",
      "2560/2560 [==============================] - 295s 115ms/step - loss: 0.0772 - val_loss: 0.0785\n",
      "Epoch 10/50\n",
      "2560/2560 [==============================] - 301s 118ms/step - loss: 0.0770 - val_loss: 0.0770\n",
      "Epoch 11/50\n",
      "2560/2560 [==============================] - 291s 114ms/step - loss: 0.0769 - val_loss: 0.0783\n",
      "Epoch 12/50\n",
      "2560/2560 [==============================] - 298s 116ms/step - loss: 0.0769 - val_loss: 0.0783\n",
      "Epoch 13/50\n",
      "2560/2560 [==============================] - 299s 117ms/step - loss: 0.0769 - val_loss: 0.0765\n",
      "Epoch 14/50\n",
      "2560/2560 [==============================] - 294s 115ms/step - loss: 0.0769 - val_loss: 0.0799\n",
      "Epoch 15/50\n",
      "2560/2560 [==============================] - 294s 115ms/step - loss: 0.0768 - val_loss: 0.0780\n",
      "Epoch 16/50\n",
      "2560/2560 [==============================] - 282s 110ms/step - loss: 0.0769 - val_loss: 0.0757\n",
      "Epoch 17/50\n",
      "2560/2560 [==============================] - 284s 111ms/step - loss: 0.0770 - val_loss: 0.0764\n",
      "Epoch 18/50\n",
      "2560/2560 [==============================] - 293s 115ms/step - loss: 0.0769 - val_loss: 0.0800\n",
      "Epoch 19/50\n",
      "2560/2560 [==============================] - 295s 115ms/step - loss: 0.0768 - val_loss: 0.0756\n",
      "Epoch 20/50\n",
      "2560/2560 [==============================] - 297s 116ms/step - loss: 0.0766 - val_loss: 0.0756\n",
      "Epoch 21/50\n",
      "2560/2560 [==============================] - 282s 110ms/step - loss: 0.0768 - val_loss: 0.0811\n",
      "Epoch 22/50\n",
      "2560/2560 [==============================] - 282s 110ms/step - loss: 0.0766 - val_loss: 0.0755\n",
      "Epoch 23/50\n",
      "2560/2560 [==============================] - 292s 114ms/step - loss: 0.0768 - val_loss: 0.0755\n",
      "Epoch 24/50\n",
      "2560/2560 [==============================] - 300s 117ms/step - loss: 0.0766 - val_loss: 0.0759\n",
      "Epoch 25/50\n",
      "2560/2560 [==============================] - 302s 118ms/step - loss: 0.0768 - val_loss: 0.0794\n",
      "Epoch 26/50\n",
      "2560/2560 [==============================] - 298s 117ms/step - loss: 0.0768 - val_loss: 0.0814\n",
      "Epoch 27/50\n",
      "2560/2560 [==============================] - 302s 118ms/step - loss: 0.0766 - val_loss: 0.0798\n",
      "Epoch 28/50\n",
      "2560/2560 [==============================] - 792s 309ms/step - loss: 0.0767 - val_loss: 0.0793\n",
      "Epoch 29/50\n",
      "2560/2560 [==============================] - 290s 113ms/step - loss: 0.0768 - val_loss: 0.0759\n",
      "Epoch 30/50\n",
      "2560/2560 [==============================] - 294s 115ms/step - loss: 0.0763 - val_loss: 0.0771\n",
      "Epoch 31/50\n",
      "2560/2560 [==============================] - 290s 113ms/step - loss: 0.0763 - val_loss: 0.0762\n",
      "Epoch 32/50\n",
      "2560/2560 [==============================] - 295s 115ms/step - loss: 0.0765 - val_loss: 0.0780\n",
      "Epoch 33/50\n",
      "2560/2560 [==============================] - 297s 116ms/step - loss: 0.0765 - val_loss: 0.0760\n",
      "Epoch 34/50\n",
      "2560/2560 [==============================] - 283s 111ms/step - loss: 0.0764 - val_loss: 0.0750\n",
      "Epoch 35/50\n",
      "2560/2560 [==============================] - 298s 117ms/step - loss: 0.0764 - val_loss: 0.0777\n",
      "Epoch 36/50\n",
      "2560/2560 [==============================] - 301s 118ms/step - loss: 0.0764 - val_loss: 0.0751\n",
      "Epoch 37/50\n",
      "2560/2560 [==============================] - 296s 116ms/step - loss: 0.0765 - val_loss: 0.0762\n",
      "Epoch 38/50\n",
      "2560/2560 [==============================] - 301s 118ms/step - loss: 0.0762 - val_loss: 0.0770\n",
      "Epoch 39/50\n",
      "2560/2560 [==============================] - 301s 118ms/step - loss: 0.0765 - val_loss: 0.0772\n",
      "Epoch 40/50\n",
      "2560/2560 [==============================] - 302s 118ms/step - loss: 0.0764 - val_loss: 0.0775\n",
      "Epoch 41/50\n",
      "2560/2560 [==============================] - 302s 118ms/step - loss: 0.0763 - val_loss: 0.0771\n",
      "Epoch 42/50\n",
      "2560/2560 [==============================] - 302s 118ms/step - loss: 0.0765 - val_loss: 0.0766\n",
      "Epoch 43/50\n",
      "2560/2560 [==============================] - 306s 119ms/step - loss: 0.0764 - val_loss: 0.0763\n",
      "Epoch 44/50\n",
      "2560/2560 [==============================] - 307s 120ms/step - loss: 0.0764 - val_loss: 0.0747\n",
      "Epoch 45/50\n",
      "2560/2560 [==============================] - 306s 120ms/step - loss: 0.0764 - val_loss: 0.0742\n",
      "Epoch 46/50\n",
      "2560/2560 [==============================] - 297s 116ms/step - loss: 0.0763 - val_loss: 0.0762\n",
      "Epoch 47/50\n",
      "2560/2560 [==============================] - 301s 118ms/step - loss: 0.0761 - val_loss: 0.0749\n",
      "Epoch 48/50\n",
      "2560/2560 [==============================] - 304s 119ms/step - loss: 0.0763 - val_loss: 0.0769\n",
      "Epoch 49/50\n",
      "2560/2560 [==============================] - 302s 118ms/step - loss: 0.0765 - val_loss: 0.0755\n",
      "Epoch 50/50\n",
      "2560/2560 [==============================] - 302s 118ms/step - loss: 0.0764 - val_loss: 0.0753\n"
     ]
    }
   ],
   "source": [
    "fit = model.fit(X_train_1_cnn, y_train_1, batch_size=12, validation_split=0.2, epochs=50)"
   ]
  },
  {
   "cell_type": "code",
   "execution_count": 15,
   "id": "b791c10b",
   "metadata": {},
   "outputs": [
    {
     "name": "stdout",
     "output_type": "stream",
     "text": [
      "300/300 [==============================] - 0s 730us/step\n"
     ]
    }
   ],
   "source": [
    "ypred = model.predict(X_test_1_cnn)"
   ]
  },
  {
   "cell_type": "code",
   "execution_count": null,
   "id": "8d458728",
   "metadata": {},
   "outputs": [],
   "source": [
    "loss = model.evaluate(X_test_1_cnn, y_test_1)\n",
    "print(\"Test loss for combination 1:\", loss)"
   ]
  },
  {
   "cell_type": "code",
   "execution_count": 16,
   "id": "1460ea26",
   "metadata": {},
   "outputs": [
    {
     "data": {
      "text/plain": [
       "0.9240417342974415"
      ]
     },
     "execution_count": 16,
     "metadata": {},
     "output_type": "execute_result"
    }
   ],
   "source": [
    "from sklearn.metrics import r2_score\n",
    "r2_score(y_test_1, ypred)"
   ]
  },
  {
   "cell_type": "code",
   "execution_count": 12,
   "id": "7127fab9",
   "metadata": {},
   "outputs": [],
   "source": [
    "def extract_data_for_combination(columns):\n",
    "    X_train = train_data[columns].values\n",
    "    y_train = train_data['Ankle_Moment'].values\n",
    "    X_test = test_data[columns].values\n",
    "    y_test = test_data['Ankle_Moment'].values\n",
    "    # Reshape for RNN\n",
    "    X_train_rnn = X_train.reshape(X_train.shape[0], 1, X_train.shape[1])\n",
    "    X_test_rnn = X_test.reshape(X_test.shape[0], 1, X_test.shape[1])\n",
    "\n",
    "    return X_train_rnn, y_train, X_test_rnn, y_test"
   ]
  },
  {
   "cell_type": "code",
   "execution_count": 13,
   "id": "5bde692b",
   "metadata": {},
   "outputs": [],
   "source": [
    "from keras.models import Sequential\n",
    "from keras.layers import Conv1D, MaxPooling1D, Flatten, Dense, Dropout\n",
    "from keras.layers import LSTM\n",
    "\n",
    "def create_rnn_model_for_combination(input_shape):\n",
    "    model = Sequential()\n",
    "    model.add(LSTM(50, activation='relu', input_shape=input_shape))\n",
    "    model.add(Dropout(0.2))\n",
    "    model.add(Dense(1))\n",
    "    model.compile(optimizer='adam', loss='mse')\n",
    "    return model"
   ]
  },
  {
   "cell_type": "code",
   "execution_count": 35,
   "id": "71920060",
   "metadata": {},
   "outputs": [
    {
     "name": "stdout",
     "output_type": "stream",
     "text": [
      "Model: \"sequential_3\"\n",
      "_________________________________________________________________\n",
      " Layer (type)                Output Shape              Param #   \n",
      "=================================================================\n",
      " lstm_1 (LSTM)               (None, 50)                10600     \n",
      "                                                                 \n",
      " dropout_1 (Dropout)         (None, 50)                0         \n",
      "                                                                 \n",
      " dense_5 (Dense)             (None, 1)                 51        \n",
      "                                                                 \n",
      "=================================================================\n",
      "Total params: 10,651\n",
      "Trainable params: 10,651\n",
      "Non-trainable params: 0\n",
      "_________________________________________________________________\n"
     ]
    }
   ],
   "source": [
    "X_train_rnn, y_train, X_test_rnn, y_test = extract_data_for_combination(['Ankle_Angle', 'Vertical Ground_Reaction_Force'])\n",
    "rnn_model = create_rnn_model_for_combination(input_shape=(X_train_rnn.shape[1], X_train_rnn.shape[2]))\n",
    "rnn_model.summary()"
   ]
  },
  {
   "cell_type": "code",
   "execution_count": 36,
   "id": "199a9087",
   "metadata": {},
   "outputs": [
    {
     "name": "stdout",
     "output_type": "stream",
     "text": [
      "Epoch 1/50\n",
      "480/480 [==============================] - 3s 3ms/step - loss: 0.2844 - val_loss: 0.1293\n",
      "Epoch 2/50\n",
      "480/480 [==============================] - 1s 2ms/step - loss: 0.1411 - val_loss: 0.1210\n",
      "Epoch 3/50\n",
      "480/480 [==============================] - 1s 2ms/step - loss: 0.1361 - val_loss: 0.1185\n",
      "Epoch 4/50\n",
      "480/480 [==============================] - 1s 2ms/step - loss: 0.1345 - val_loss: 0.1171\n",
      "Epoch 5/50\n",
      "480/480 [==============================] - 1s 2ms/step - loss: 0.1334 - val_loss: 0.1151\n",
      "Epoch 6/50\n",
      "480/480 [==============================] - 1s 2ms/step - loss: 0.1323 - val_loss: 0.1158\n",
      "Epoch 7/50\n",
      "480/480 [==============================] - 1s 2ms/step - loss: 0.1316 - val_loss: 0.1141\n",
      "Epoch 8/50\n",
      "480/480 [==============================] - 1s 2ms/step - loss: 0.1311 - val_loss: 0.1135\n",
      "Epoch 9/50\n",
      "480/480 [==============================] - 1s 2ms/step - loss: 0.1307 - val_loss: 0.1138\n",
      "Epoch 10/50\n",
      "480/480 [==============================] - 1s 2ms/step - loss: 0.1292 - val_loss: 0.1124\n",
      "Epoch 11/50\n",
      "480/480 [==============================] - 1s 2ms/step - loss: 0.1305 - val_loss: 0.1129\n",
      "Epoch 12/50\n",
      "480/480 [==============================] - 1s 2ms/step - loss: 0.1289 - val_loss: 0.1121\n",
      "Epoch 13/50\n",
      "480/480 [==============================] - 1s 2ms/step - loss: 0.1287 - val_loss: 0.1117\n",
      "Epoch 14/50\n",
      "480/480 [==============================] - 1s 2ms/step - loss: 0.1286 - val_loss: 0.1114\n",
      "Epoch 15/50\n",
      "480/480 [==============================] - 1s 2ms/step - loss: 0.1282 - val_loss: 0.1106\n",
      "Epoch 16/50\n",
      "480/480 [==============================] - 1s 2ms/step - loss: 0.1277 - val_loss: 0.1102\n",
      "Epoch 17/50\n",
      "480/480 [==============================] - 1s 2ms/step - loss: 0.1277 - val_loss: 0.1112\n",
      "Epoch 18/50\n",
      "480/480 [==============================] - 1s 2ms/step - loss: 0.1275 - val_loss: 0.1098\n",
      "Epoch 19/50\n",
      "480/480 [==============================] - 1s 2ms/step - loss: 0.1268 - val_loss: 0.1095\n",
      "Epoch 20/50\n",
      "480/480 [==============================] - 1s 2ms/step - loss: 0.1274 - val_loss: 0.1101\n",
      "Epoch 21/50\n",
      "480/480 [==============================] - 1s 2ms/step - loss: 0.1258 - val_loss: 0.1088\n",
      "Epoch 22/50\n",
      "480/480 [==============================] - 1s 2ms/step - loss: 0.1255 - val_loss: 0.1088\n",
      "Epoch 23/50\n",
      "480/480 [==============================] - 1s 2ms/step - loss: 0.1261 - val_loss: 0.1096\n",
      "Epoch 24/50\n",
      "480/480 [==============================] - 1s 2ms/step - loss: 0.1260 - val_loss: 0.1093\n",
      "Epoch 25/50\n",
      "480/480 [==============================] - 1s 2ms/step - loss: 0.1256 - val_loss: 0.1081\n",
      "Epoch 26/50\n",
      "480/480 [==============================] - 1s 2ms/step - loss: 0.1250 - val_loss: 0.1078\n",
      "Epoch 27/50\n",
      "480/480 [==============================] - 1s 2ms/step - loss: 0.1256 - val_loss: 0.1077\n",
      "Epoch 28/50\n",
      "480/480 [==============================] - 1s 2ms/step - loss: 0.1249 - val_loss: 0.1077\n",
      "Epoch 29/50\n",
      "480/480 [==============================] - 1s 2ms/step - loss: 0.1257 - val_loss: 0.1071\n",
      "Epoch 30/50\n",
      "480/480 [==============================] - 1s 2ms/step - loss: 0.1239 - val_loss: 0.1090\n",
      "Epoch 31/50\n",
      "480/480 [==============================] - 1s 2ms/step - loss: 0.1234 - val_loss: 0.1063\n",
      "Epoch 32/50\n",
      "480/480 [==============================] - 1s 2ms/step - loss: 0.1234 - val_loss: 0.1055\n",
      "Epoch 33/50\n",
      "480/480 [==============================] - 1s 2ms/step - loss: 0.1232 - val_loss: 0.1048\n",
      "Epoch 34/50\n",
      "480/480 [==============================] - 1s 2ms/step - loss: 0.1222 - val_loss: 0.1044\n",
      "Epoch 35/50\n",
      "480/480 [==============================] - 1s 2ms/step - loss: 0.1225 - val_loss: 0.1043\n",
      "Epoch 36/50\n",
      "480/480 [==============================] - 1s 2ms/step - loss: 0.1217 - val_loss: 0.1035\n",
      "Epoch 37/50\n",
      "480/480 [==============================] - 1s 2ms/step - loss: 0.1218 - val_loss: 0.1047\n",
      "Epoch 38/50\n",
      "480/480 [==============================] - 1s 2ms/step - loss: 0.1208 - val_loss: 0.1038\n",
      "Epoch 39/50\n",
      "480/480 [==============================] - 1s 2ms/step - loss: 0.1215 - val_loss: 0.1042\n",
      "Epoch 40/50\n",
      "480/480 [==============================] - 1s 2ms/step - loss: 0.1200 - val_loss: 0.1031\n",
      "Epoch 41/50\n",
      "480/480 [==============================] - 1s 2ms/step - loss: 0.1214 - val_loss: 0.1025\n",
      "Epoch 42/50\n",
      "480/480 [==============================] - 1s 2ms/step - loss: 0.1206 - val_loss: 0.1045\n",
      "Epoch 43/50\n",
      "480/480 [==============================] - 1s 2ms/step - loss: 0.1209 - val_loss: 0.1023\n",
      "Epoch 44/50\n",
      "480/480 [==============================] - 1s 2ms/step - loss: 0.1188 - val_loss: 0.1021\n",
      "Epoch 45/50\n",
      "480/480 [==============================] - 1s 2ms/step - loss: 0.1204 - val_loss: 0.1015\n",
      "Epoch 46/50\n",
      "480/480 [==============================] - 1s 2ms/step - loss: 0.1188 - val_loss: 0.1008\n",
      "Epoch 47/50\n",
      "480/480 [==============================] - 1s 2ms/step - loss: 0.1200 - val_loss: 0.1008\n",
      "Epoch 48/50\n",
      "480/480 [==============================] - 1s 2ms/step - loss: 0.1198 - val_loss: 0.1004\n",
      "Epoch 49/50\n",
      "480/480 [==============================] - 1s 2ms/step - loss: 0.1193 - val_loss: 0.1006\n",
      "Epoch 50/50\n",
      "480/480 [==============================] - 1s 2ms/step - loss: 0.1189 - val_loss: 0.1015\n"
     ]
    }
   ],
   "source": [
    "model = rnn_model.fit(X_train_rnn, y_train, epochs=50, batch_size=64, validation_split=0.2, verbose=1)"
   ]
  },
  {
   "cell_type": "code",
   "execution_count": 37,
   "id": "baeeb945",
   "metadata": {},
   "outputs": [
    {
     "name": "stdout",
     "output_type": "stream",
     "text": [
      "300/300 [==============================] - 1s 1ms/step - loss: 0.1011\n",
      "Test loss for combination 1: 0.10114748775959015\n"
     ]
    }
   ],
   "source": [
    "loss = rnn_model.evaluate(X_test_rnn, y_test)\n",
    "print(\"Test loss for combination 1:\", loss)"
   ]
  },
  {
   "cell_type": "code",
   "execution_count": 38,
   "id": "85ceb6df",
   "metadata": {},
   "outputs": [
    {
     "data": {
      "image/png": "[encoded data removed]",
      "text/plain": [
       "<Figure size 1000x500 with 1 Axes>"
      ]
     },
     "metadata": {},
     "output_type": "display_data"
    }
   ],
   "source": [
    "train_loss = model.history['loss']\n",
    "val_loss = model.history['val_loss']\n",
    "\n",
    "# Plotting training & validation loss values\n",
    "plt.figure(figsize=(10, 5))\n",
    "plt.plot(train_loss, label='Training Loss')\n",
    "plt.plot(val_loss, label='Validation Loss')\n",
    "plt.title('Training and Validation Loss for RNN Ankle Angle and Vertical Ground Reaction Force')\n",
    "plt.ylabel('Loss')\n",
    "plt.xlabel('Epoch')\n",
    "plt.legend()\n",
    "plt.show()"
   ]
  },
  {
   "cell_type": "code",
   "execution_count": 39,
   "id": "bea5cfd7",
   "metadata": {},
   "outputs": [
    {
     "data": {
      "image/png": "[encoded data removed]",
      "text/plain": [
       "<Figure size 1000x500 with 1 Axes>"
      ]
     },
     "metadata": {},
     "output_type": "display_data"
    }
   ],
   "source": [
    "train_loss = fit.history['loss']\n",
    "val_loss = fit.history['val_loss']\n",
    "\n",
    "# Plotting training & validation loss values\n",
    "plt.figure(figsize=(10, 5))\n",
    "plt.plot(train_loss, label='Training Loss')\n",
    "plt.plot(val_loss, label='Validation Loss')\n",
    "plt.title('Training and Validation Loss for CNN Ankle Angle and Vertical Ground Reaction Force')\n",
    "plt.ylabel('Loss')\n",
    "plt.xlabel('Epoch')\n",
    "plt.legend()\n",
    "plt.show()"
   ]
  },
  {
   "cell_type": "code",
   "execution_count": null,
   "id": "624da296",
   "metadata": {},
   "outputs": [],
   "source": []
  }
 ],
 "metadata": {
  "kernelspec": {
   "display_name": "Python 3 (ipykernel)",
   "language": "python",
   "name": "python3"
  },
  "language_info": {
   "codemirror_mode": {
    "name": "ipython",
    "version": 3
   },
   "file_extension": ".py",
   "mimetype": "text/x-python",
   "name": "python",
   "nbconvert_exporter": "python",
   "pygments_lexer": "ipython3",
   "version": "3.9.13"
  }
 },
 "nbformat": 4,
 "nbformat_minor": 5
}
